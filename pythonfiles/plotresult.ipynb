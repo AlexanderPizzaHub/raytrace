{
 "cells": [
  {
   "cell_type": "code",
   "execution_count": 1,
   "metadata": {},
   "outputs": [],
   "source": [
    "import numpy as np \n",
    "import matplotlib.pyplot as plt\n",
    "import pandas as pd "
   ]
  },
  {
   "cell_type": "code",
   "execution_count": 2,
   "metadata": {},
   "outputs": [],
   "source": [
    "def pltfile(file,fileout):\n",
    "    dat = np.array(pd.read_table(file,sep = \" \",header=None))\n",
    "    fig, ax = plt.subplots()\n",
    "    maxcolor = np.max(dat[:,4])\n",
    "    for i in range(10):\n",
    "        for j in range(10):\n",
    "            '''\n",
    "            if(phi[j,i] > 0):\n",
    "                plt.scatter(i,j,c=\"red\") \n",
    "            else:\n",
    "                #print(i,j)\n",
    "                plt.scatter(i,j,c=\"black\")\n",
    "                '''\n",
    "            plt.scatter(i,j,c='black')\n",
    "    for row in dat:\n",
    "        ax.plot([row[0],row[1]],[row[2],row[3]],c=[1-float(row[4]/maxcolor),1.0,1.0])\n",
    "    plt.savefig(fileout)\n",
    "    plt.close()"
   ]
  },
  {
   "cell_type": "code",
   "execution_count": 3,
   "metadata": {},
   "outputs": [],
   "source": [
    "numFrames = 200"
   ]
  },
  {
   "cell_type": "code",
   "execution_count": 4,
   "metadata": {},
   "outputs": [],
   "source": [
    "for i in range(0,numFrames):\n",
    "    pltfile(\"../results/output\"+format(0.100000*(i),\".6f\")+\".txt\",\"../figures/frame\"+str(i)+\".png\")"
   ]
  },
  {
   "cell_type": "code",
   "execution_count": 5,
   "metadata": {},
   "outputs": [],
   "source": [
    "\n",
    "from PIL import Image\n",
    "pathlist = []\n",
    "for i in range(0,numFrames):\n",
    "    pathlist.append(\"../figures/frame\"+str(i)+\".png\")\n",
    "\n",
    "def create_gif(image_paths, output_gif_path, duration=20):\n",
    "    images = [Image.open(image_path) for image_path in image_paths]\n",
    "    # Save as GIF\n",
    "    images[0].save(\n",
    "    output_gif_path,\n",
    "    save_all=True,\n",
    "    append_images=images[1:],\n",
    "    duration=duration,\n",
    "    loop=0 # 0 means infinite loop\n",
    "    )\n",
    "\n",
    "output_gif_path = \"../animation/frames.gif\"\n",
    "# Create GIF\n",
    "create_gif(pathlist, output_gif_path)"
   ]
  },
  {
   "cell_type": "code",
   "execution_count": null,
   "metadata": {},
   "outputs": [],
   "source": []
  }
 ],
 "metadata": {
  "kernelspec": {
   "display_name": "Python 3",
   "language": "python",
   "name": "python3"
  },
  "language_info": {
   "codemirror_mode": {
    "name": "ipython",
    "version": 3
   },
   "file_extension": ".py",
   "mimetype": "text/x-python",
   "name": "python",
   "nbconvert_exporter": "python",
   "pygments_lexer": "ipython3",
   "version": "3.12.7"
  }
 },
 "nbformat": 4,
 "nbformat_minor": 2
}
