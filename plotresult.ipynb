{
 "cells": [
  {
   "cell_type": "code",
   "execution_count": 5,
   "metadata": {},
   "outputs": [],
   "source": [
    "import numpy as np \n",
    "import matplotlib.pyplot as plt\n",
    "import pandas as pd "
   ]
  },
  {
   "cell_type": "code",
   "execution_count": 6,
   "metadata": {},
   "outputs": [],
   "source": [
    "phi = np.array(\n",
    "    [\n",
    "        [1, 1, 1, 1, 1],\n",
    "[1, 0.5, 0.5, 0.5, 1],\n",
    "[0.5, 0.2, -0.2, 0.2, 0.5], \n",
    "[0.2, -0.2, -0.2, -0.2, 0.2],\n",
    "[0.2, -0.5, -0.5, -0.5, 0.2]  \n",
    "    ]\n",
    ")"
   ]
  },
  {
   "cell_type": "code",
   "execution_count": 7,
   "metadata": {},
   "outputs": [],
   "source": [
    "def pltfile(file,fileout):\n",
    "    dat = np.array(pd.read_table(file,sep = \" \",header=None))\n",
    "    fig, ax = plt.subplots()\n",
    "    maxcolor = np.max(dat[:,4])\n",
    "    for i in range(5):\n",
    "        for j in range(5):\n",
    "            if(phi[j,i] > 0):\n",
    "                plt.scatter(i,j,c=\"red\") \n",
    "            else:\n",
    "                #print(i,j)\n",
    "                plt.scatter(i,j,c=\"black\")\n",
    "    for row in dat:\n",
    "        ax.plot([row[0],row[1]],[row[2],row[3]],c=[1-float(row[4]/maxcolor),1.0,1.0])\n",
    "    plt.savefig(fileout)\n",
    "    plt.close()"
   ]
  },
  {
   "cell_type": "code",
   "execution_count": 8,
   "metadata": {},
   "outputs": [],
   "source": [
    "for i in range(0,29):\n",
    "    pltfile(\"results/output\"+format(0.100000*(i),\".6f\")+\".txt\",\"figures/frame\"+str(i)+\".png\")"
   ]
  },
  {
   "cell_type": "code",
   "execution_count": 9,
   "metadata": {},
   "outputs": [],
   "source": [
    "numFrames = 29\n",
    "from PIL import Image\n",
    "pathlist = []\n",
    "for i in range(0,numFrames):\n",
    "    pathlist.append(\"figures/frame\"+str(i)+\".png\")\n",
    "\n",
    "def create_gif(image_paths, output_gif_path, duration=8):\n",
    "    images = [Image.open(image_path) for image_path in image_paths]\n",
    "    # Save as GIF\n",
    "    images[0].save(\n",
    "    output_gif_path,\n",
    "    save_all=True,\n",
    "    append_images=images[1:],\n",
    "    duration=duration,\n",
    "    loop=0 # 0 means infinite loop\n",
    "    )\n",
    "\n",
    "output_gif_path = \"frames.gif\"\n",
    "# Create GIF\n",
    "create_gif(pathlist, output_gif_path)"
   ]
  },
  {
   "cell_type": "code",
   "execution_count": null,
   "metadata": {},
   "outputs": [],
   "source": []
  }
 ],
 "metadata": {
  "kernelspec": {
   "display_name": ".venv",
   "language": "python",
   "name": "python3"
  },
  "language_info": {
   "codemirror_mode": {
    "name": "ipython",
    "version": 3
   },
   "file_extension": ".py",
   "mimetype": "text/x-python",
   "name": "python",
   "nbconvert_exporter": "python",
   "pygments_lexer": "ipython3",
   "version": "3.11.5"
  }
 },
 "nbformat": 4,
 "nbformat_minor": 2
}
